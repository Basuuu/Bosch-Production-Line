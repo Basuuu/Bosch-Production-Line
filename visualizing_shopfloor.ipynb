{
 "cells": [
  {
   "cell_type": "code",
   "execution_count": 1,
   "id": "36d476a4-919c-458d-a75a-0b5feb25f764",
   "metadata": {},
   "outputs": [],
   "source": [
    "ID_COL = 'Id'"
   ]
  },
  {
   "cell_type": "code",
   "execution_count": 2,
   "id": "73f5852c-3cc7-468c-b46c-e9f3c6bb9054",
   "metadata": {},
   "outputs": [],
   "source": [
    "import pandas as pd\n",
    "from collections import Counter\n",
    "import networkx as nx\n",
    "import pygraphviz as pgv"
   ]
  },
  {
   "cell_type": "code",
   "execution_count": 3,
   "id": "7dc820d1-3676-4f3c-ab52-34c5be7238fc",
   "metadata": {},
   "outputs": [],
   "source": [
    "edge_counter = Counter()\n",
    "dates = pd.read_csv('./Bosch/train_date.csv', chunksize=10000, index_col=ID_COL)\n",
    "for date in dates:\n",
    "    edges = []\n",
    "    date.rename({col: '_'.join(col.split('_')[:2]) for col in date.columns}, axis=1, inplace=True)\n",
    "    not_null_msk  = date.T.notnull()\n",
    "    for item in date.index.tolist():\n",
    "        item_df = not_null_msk[item]\n",
    "        vertices = list(dict.fromkeys(item_df[item_df].index.tolist()))\n",
    "        edges.extend([(vertices[i-1], vertices[i]) for i in range(1, len(vertices))])\n",
    "    edge_counter.update(Counter(edges))"
   ]
  },
  {
   "cell_type": "code",
   "execution_count": 4,
   "id": "f68a5441-cd9a-4a7e-8cc8-3467f41e40c1",
   "metadata": {},
   "outputs": [],
   "source": [
    "G = pgv.AGraph(strict=False, directed=True)"
   ]
  },
  {
   "cell_type": "code",
   "execution_count": 7,
   "id": "35160a2c-30c3-4b68-80fb-49accbf997b5",
   "metadata": {},
   "outputs": [],
   "source": [
    "ebunch = [(k[0], k[1], v) for k,v in edge_counter.items()]\n",
    "ebunch_max, ebunch_min = ebunch[0][2], ebunch[-1][2]\n",
    "reg_ebunch = [(x[0], x[1]) for x in ebunch]\n",
    "out_nodes = set([k[0] for k,v in edge_counter.items()])\n",
    "in_nodes = set([k[1] for k,v in edge_counter.items()])\n",
    "sink_nodes = in_nodes - out_nodes\n",
    "origin_nodes = out_nodes - in_nodes\n",
    "norm_ebunch = []\n",
    "for i, e in enumerate(ebunch):\n",
    "    norm_ebunch.append((e[0], e[1], (e[2]-ebunch_min)/(ebunch_max-ebunch_min)*5))"
   ]
  },
  {
   "cell_type": "code",
   "execution_count": 8,
   "id": "f3950f82-4216-4240-8525-5d29cad79f0e",
   "metadata": {},
   "outputs": [
    {
     "data": {
      "text/plain": [
       "({'L3_S38', 'L3_S51'}, {'L0_S0'})"
      ]
     },
     "execution_count": 8,
     "metadata": {},
     "output_type": "execute_result"
    }
   ],
   "source": [
    "sink_nodes, origin_nodes"
   ]
  },
  {
   "cell_type": "code",
   "execution_count": 9,
   "id": "01185211-ead1-4811-8e71-747eec30a1eb",
   "metadata": {},
   "outputs": [],
   "source": [
    "lines = ['L0', 'L1', 'L2', 'L3']\n",
    "colors = ['black', 'red', 'green', 'blue']\n",
    "node_line = {}\n",
    "for color, line in zip(colors, lines):\n",
    "    node_line[line] = [k[0] for k,v in edge_counter.items() if line in k[0]]\n",
    "    G.add_nodes_from(node_line[line], color=color)"
   ]
  },
  {
   "cell_type": "code",
   "execution_count": 10,
   "id": "5f29ebda-5bc6-4883-a957-bf43893d5462",
   "metadata": {},
   "outputs": [],
   "source": [
    "G.add_edges_from(reg_ebunch)"
   ]
  },
  {
   "cell_type": "code",
   "execution_count": 21,
   "id": "ccda1569-34ed-4285-b660-cd2d29710f9c",
   "metadata": {},
   "outputs": [],
   "source": [
    "G.layout(prog=\"dot\")\n",
    "G.draw(\"file.png\")"
   ]
  },
  {
   "cell_type": "markdown",
   "id": "44f9be25-7aa4-4450-9f5d-0f5783d1f86e",
   "metadata": {},
   "source": [
    "## "
   ]
  },
  {
   "cell_type": "code",
   "execution_count": 31,
   "id": "15311225-53f7-4675-93f9-313045aef23f",
   "metadata": {},
   "outputs": [
    {
     "data": {
      "text/plain": [
       "'L1_S24, L2_S26, L3_S29, L3_S30, L3_S33, L3_S34, L3_S35, L3_S37'"
      ]
     },
     "execution_count": 31,
     "metadata": {},
     "output_type": "execute_result"
    }
   ],
   "source": [
    "# Example:\n",
    "# Many duplicates, because each station has several features. \n",
    "# Are all items being measured the same way on each station? TODO\n",
    "(', ').join(date.loc[2359958][date.loc[2359958].notna()].index.drop_duplicates().tolist())"
   ]
  },
  {
   "cell_type": "code",
   "execution_count": 33,
   "id": "f918d965-c001-4987-81c8-74e068595131",
   "metadata": {},
   "outputs": [],
   "source": [
    "paths = Counter()\n",
    "dates = pd.read_csv('./Bosch/train_date.csv', chunksize=10000, index_col=ID_COL)\n",
    "for date in dates:\n",
    "    edges = []\n",
    "    date.rename({col: '_'.join(col.split('_')[:2]) for col in date.columns}, axis=1, inplace=True)\n",
    "    path_batch = []\n",
    "    for item in date.index.tolist():\n",
    "        path = (', ').join(date.loc[item][date.loc[item].notna()].index.drop_duplicates().tolist())\n",
    "        path_batch.append(path)\n",
    "    paths.update(Counter(path_batch))"
   ]
  },
  {
   "cell_type": "code",
   "execution_count": 69,
   "id": "df88da35-31d7-4b4d-8815-856f58f9ee6a",
   "metadata": {},
   "outputs": [],
   "source": [
    "nodes, edges = set(), set()\n",
    "for path in paths.most_common(7):\n",
    "    path = path[:-1][0].replace(',', '').split()\n",
    "    for node in path:\n",
    "        nodes.add(node)\n",
    "    for i in range(1, len(path)):\n",
    "        edges.add((path[i-1], path[i]))"
   ]
  },
  {
   "cell_type": "code",
   "execution_count": 70,
   "id": "f930c7d8-04ed-4101-9170-501ee78555c4",
   "metadata": {},
   "outputs": [
    {
     "data": {
      "text/plain": [
       "{'L1_S24',\n",
       " 'L1_S25',\n",
       " 'L2_S26',\n",
       " 'L2_S27',\n",
       " 'L3_S29',\n",
       " 'L3_S30',\n",
       " 'L3_S33',\n",
       " 'L3_S34',\n",
       " 'L3_S35',\n",
       " 'L3_S36',\n",
       " 'L3_S37'}"
      ]
     },
     "execution_count": 70,
     "metadata": {},
     "output_type": "execute_result"
    }
   ],
   "source": [
    "nodes"
   ]
  },
  {
   "cell_type": "code",
   "execution_count": 71,
   "id": "b5198af3-b43a-4fd7-ad34-8c32ef756adf",
   "metadata": {},
   "outputs": [
    {
     "data": {
      "text/plain": [
       "{('L1_S24', 'L2_S26'),\n",
       " ('L1_S24', 'L2_S27'),\n",
       " ('L1_S25', 'L2_S26'),\n",
       " ('L1_S25', 'L2_S27'),\n",
       " ('L2_S26', 'L3_S29'),\n",
       " ('L2_S27', 'L3_S29'),\n",
       " ('L3_S29', 'L3_S30'),\n",
       " ('L3_S30', 'L3_S33'),\n",
       " ('L3_S33', 'L3_S34'),\n",
       " ('L3_S34', 'L3_S35'),\n",
       " ('L3_S34', 'L3_S36'),\n",
       " ('L3_S35', 'L3_S37'),\n",
       " ('L3_S36', 'L3_S37')}"
      ]
     },
     "execution_count": 71,
     "metadata": {},
     "output_type": "execute_result"
    }
   ],
   "source": [
    "edges"
   ]
  },
  {
   "cell_type": "code",
   "execution_count": 72,
   "id": "d6b86b25-0328-483a-8009-14520608aff5",
   "metadata": {},
   "outputs": [],
   "source": [
    "G = pgv.AGraph(strict=False, directed=True)"
   ]
  },
  {
   "cell_type": "code",
   "execution_count": 74,
   "id": "7126a5d3-b8b9-4857-9dbc-9ff483002f6a",
   "metadata": {},
   "outputs": [],
   "source": [
    "G.add_nodes_from(nodes)\n",
    "G.add_edges_from(edges)"
   ]
  },
  {
   "cell_type": "code",
   "execution_count": 76,
   "id": "54b7557e-e362-41d2-add5-b7d5d49db58f",
   "metadata": {},
   "outputs": [],
   "source": [
    "G.layout(prog=\"dot\")\n",
    "G.draw(\"most_common_paths.png\")"
   ]
  },
  {
   "cell_type": "code",
   "execution_count": 103,
   "id": "3357af79-2966-4421-90c5-95a28586b89e",
   "metadata": {},
   "outputs": [],
   "source": [
    "counts = sorted([x for x in paths.values() if x>1000], reverse=True)"
   ]
  },
  {
   "cell_type": "code",
   "execution_count": 109,
   "id": "1ddb8d79-99a7-46b3-ad29-7b71b0559777",
   "metadata": {},
   "outputs": [
    {
     "data": {
      "image/png": "[encoded data removed]",
      "text/plain": [
       "<Figure size 2160x720 with 1 Axes>"
      ]
     },
     "metadata": {
      "needs_background": "light"
     },
     "output_type": "display_data"
    }
   ],
   "source": [
    "pd.DataFrame(counts).plot.bar(figsize=(30, 10),\n",
    "                              xlabel='ID',\n",
    "                              ylabel='counts',\n",
    "                              fontsize='large');"
   ]
  },
  {
   "cell_type": "code",
   "execution_count": 125,
   "id": "fad0e2a2-55bc-4850-b717-da70a92c6f25",
   "metadata": {},
   "outputs": [],
   "source": [
    "lines = ['L0', 'L1', 'L2', 'L3']\n",
    "colors = ['black', 'red', 'green', 'blue']\n",
    "line_color = {line_id: color for line_id, color  in zip(lines, colors)}"
   ]
  },
  {
   "cell_type": "code",
   "execution_count": 126,
   "id": "01bd315a-a67c-41f2-a481-a9eab365824e",
   "metadata": {},
   "outputs": [],
   "source": [
    "most_common_paths = {}\n",
    "prev = paths.most_common()[0][-1]\n",
    "for path in paths.most_common(len(counts)):\n",
    "    count = path[-1]\n",
    "    if count < 0.3*prev:\n",
    "        break\n",
    "    prev = path[-1]\n",
    "    most_common_paths[path[:-1]] = count"
   ]
  },
  {
   "cell_type": "code",
   "execution_count": 132,
   "id": "7bfd7f8b-9730-4eb4-a10b-cb410ea04321",
   "metadata": {},
   "outputs": [],
   "source": [
    "G = pgv.AGraph(strict=False, directed=True)\n"
   ]
  },
  {
   "cell_type": "code",
   "execution_count": 133,
   "id": "3acff554-20ea-4b10-85f0-bed2b34919d4",
   "metadata": {},
   "outputs": [],
   "source": [
    "nodes, edges = set(), set()\n",
    "for path in paths.most_common(len(counts)):\n",
    "    path = path[:-1][0].replace(',', '').split()\n",
    "    for node in path:\n",
    "        line = node.split('_')[0]\n",
    "        nodes.add(node)\n",
    "        G.add_node(node, color=line_color[line])\n",
    "    for i in range(1, len(path)):\n",
    "        line = path[i-1].split('_')[0]\n",
    "        len_edges = len(edges)\n",
    "        edges.add((path[i-1], path[i]))\n",
    "        if len_edges<len(edges):\n",
    "            G.add_edge((path[i-1], path[i]), color=line_color[line])"
   ]
  },
  {
   "cell_type": "code",
   "execution_count": 134,
   "id": "cfcbab33-11a2-4f26-af6a-0f43db0e0ca1",
   "metadata": {},
   "outputs": [],
   "source": [
    "#G.add_nodes_from(nodes)\n",
    "#G.add_edges_from(edges)\n",
    "G.layout(prog=\"dot\")\n",
    "G.draw(\"most_common_paths_extended.png\")"
   ]
  },
  {
   "cell_type": "code",
   "execution_count": null,
   "id": "22272fd2-78a4-4dc2-b243-c32cc9ae5d51",
   "metadata": {},
   "outputs": [],
   "source": []
  }
 ],
 "metadata": {
  "kernelspec": {
   "display_name": "Python 3",
   "language": "python",
   "name": "python3"
  },
  "language_info": {
   "codemirror_mode": {
    "name": "ipython",
    "version": 3
   },
   "file_extension": ".py",
   "mimetype": "text/x-python",
   "name": "python",
   "nbconvert_exporter": "python",
   "pygments_lexer": "ipython3",
   "version": "3.8.12"
  }
 },
 "nbformat": 4,
 "nbformat_minor": 5
}
