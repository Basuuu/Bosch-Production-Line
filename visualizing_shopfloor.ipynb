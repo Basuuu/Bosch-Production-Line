{
 "cells": [
  {
   "cell_type": "code",
   "execution_count": 1,
   "id": "36d476a4-919c-458d-a75a-0b5feb25f764",
   "metadata": {},
   "outputs": [],
   "source": [
    "ID_COL = 'Id'"
   ]
  },
  {
   "cell_type": "code",
   "execution_count": 2,
   "id": "73f5852c-3cc7-468c-b46c-e9f3c6bb9054",
   "metadata": {},
   "outputs": [],
   "source": [
    "import pandas as pd\n",
    "from collections import Counter\n",
    "import networkx as nx\n",
    "import pygraphviz as pgv"
   ]
  },
  {
   "cell_type": "code",
   "execution_count": 3,
   "id": "7dc820d1-3676-4f3c-ab52-34c5be7238fc",
   "metadata": {},
   "outputs": [],
   "source": [
    "edge_counter = Counter()\n",
    "dates = pd.read_csv('./Bosch/train_date.csv', chunksize=10000, index_col=ID_COL)\n",
    "for date in dates:\n",
    "    edges = []\n",
    "    date.rename({col: '_'.join(col.split('_')[:2]) for col in date.columns}, axis=1, inplace=True)\n",
    "    not_null_msk  = date.T.notnull()\n",
    "    for item in date.index.tolist():\n",
    "        item_df = not_null_msk[item]\n",
    "        vertices = list(dict.fromkeys(item_df[item_df].index.tolist()))\n",
    "        edges.extend([(vertices[i-1], vertices[i]) for i in range(1, len(vertices))])\n",
    "    edge_counter.update(Counter(edges))"
   ]
  },
  {
   "cell_type": "code",
   "execution_count": 4,
   "id": "f68a5441-cd9a-4a7e-8cc8-3467f41e40c1",
   "metadata": {},
   "outputs": [],
   "source": [
    "G = pgv.AGraph(strict=False, directed=True)"
   ]
  },
  {
   "cell_type": "code",
   "execution_count": 7,
   "id": "35160a2c-30c3-4b68-80fb-49accbf997b5",
   "metadata": {},
   "outputs": [],
   "source": [
    "ebunch = [(k[0], k[1], v) for k,v in edge_counter.items()]\n",
    "ebunch_max, ebunch_min = ebunch[0][2], ebunch[-1][2]\n",
    "reg_ebunch = [(x[0], x[1]) for x in ebunch]\n",
    "out_nodes = set([k[0] for k,v in edge_counter.items()])\n",
    "in_nodes = set([k[1] for k,v in edge_counter.items()])\n",
    "sink_nodes = in_nodes - out_nodes\n",
    "origin_nodes = out_nodes - in_nodes\n",
    "norm_ebunch = []\n",
    "for i, e in enumerate(ebunch):\n",
    "    norm_ebunch.append((e[0], e[1], (e[2]-ebunch_min)/(ebunch_max-ebunch_min)*5))"
   ]
  },
  {
   "cell_type": "code",
   "execution_count": 8,
   "id": "f3950f82-4216-4240-8525-5d29cad79f0e",
   "metadata": {},
   "outputs": [
    {
     "data": {
      "text/plain": [
       "({'L3_S38', 'L3_S51'}, {'L0_S0'})"
      ]
     },
     "execution_count": 8,
     "metadata": {},
     "output_type": "execute_result"
    }
   ],
   "source": [
    "sink_nodes, origin_nodes"
   ]
  },
  {
   "cell_type": "code",
   "execution_count": 9,
   "id": "01185211-ead1-4811-8e71-747eec30a1eb",
   "metadata": {},
   "outputs": [],
   "source": [
    "lines = ['L0', 'L1', 'L2', 'L3']\n",
    "colors = ['black', 'red', 'green', 'blue']\n",
    "node_line = {}\n",
    "for color, line in zip(colors, lines):\n",
    "    node_line[line] = [k[0] for k,v in edge_counter.items() if line in k[0]]\n",
    "    G.add_nodes_from(node_line[line], color=color)"
   ]
  },
  {
   "cell_type": "code",
   "execution_count": 10,
   "id": "5f29ebda-5bc6-4883-a957-bf43893d5462",
   "metadata": {},
   "outputs": [],
   "source": [
    "G.add_edges_from(reg_ebunch)"
   ]
  },
  {
   "cell_type": "code",
   "execution_count": 21,
   "id": "ccda1569-34ed-4285-b660-cd2d29710f9c",
   "metadata": {},
   "outputs": [],
   "source": [
    "G.layout(prog=\"dot\")\n",
    "G.draw(\"file.png\")"
   ]
  }
 ],
 "metadata": {
  "kernelspec": {
   "display_name": "Python 3",
   "language": "python",
   "name": "python3"
  },
  "language_info": {
   "codemirror_mode": {
    "name": "ipython",
    "version": 3
   },
   "file_extension": ".py",
   "mimetype": "text/x-python",
   "name": "python",
   "nbconvert_exporter": "python",
   "pygments_lexer": "ipython3",
   "version": "3.8.12"
  }
 },
 "nbformat": 4,
 "nbformat_minor": 5
}
