{
 "cells": [
  {
   "cell_type": "code",
   "execution_count": 105,
   "id": "b70fad12-7916-42e7-aae2-4a2d0c59e8b1",
   "metadata": {},
   "outputs": [],
   "source": [
    "import pandas as pd\n",
    "from collections import Counter, defaultdict\n",
    "import networkx as nx\n",
    "import pygraphviz as pgv\n",
    "\n",
    "ID_COL = 'Id'\n",
    "train_date_path = './Bosch/train_date.csv'\n",
    "test_date_path = './Bosch/test_date.csv'\n",
    "train_numeric_path = './Bosch/train_numeric.csv'\n",
    "test_numeric_path = './Bosch/test_numeric.csv'\n",
    "train_cat_path = './Bosch/train_categorical.csv'\n",
    "test_cat_path = './Bosch/test_categorical.csv'\n",
    "\n",
    "pd.options.display.float_format = '{:.4f}'.format"
   ]
  },
  {
   "cell_type": "markdown",
   "id": "15e285dc-d2e6-4cbd-b9c0-405cb2d28332",
   "metadata": {},
   "source": [
    "# Visualizing the shopfloor \n",
    "Date data contains the timestamp for each measured feature, be it numeric or categorical.\n",
    "\n",
    "\n",
    "This is the file that will be used to visualize the stations and production lines. "
   ]
  },
  {
   "cell_type": "code",
   "execution_count": 36,
   "id": "65279824-9ba0-4806-900f-551888436a3c",
   "metadata": {},
   "outputs": [],
   "source": [
    "def update_counter_from_file(filepath,\n",
    "                                  edges=True,\n",
    "                                  counter=Counter(),\n",
    "                                  chunksize=10000,\n",
    "                                  index_col=ID_COL):\n",
    "    \"\"\"\n",
    "    filepath (str): path to csv file\n",
    "                    column names are form the following format: L0_S0_D1\n",
    "                    L0_S0_D1 is the time at which L0_S0_F0 was taken.\n",
    "    edges (bool): are we counting single edges or full path\n",
    "    counter (Counter instance): counter to update\n",
    "    chunksize (int): provide chunksize if file to big to fit in memory\n",
    "    index_col (str): column to use as index, item id.\n",
    "    \"\"\"\n",
    "    dates = pd.read_csv(filepath,\n",
    "                        chunksize=chunksize,\n",
    "                        index_col=index_col)\n",
    "    for date in dates:\n",
    "        items_to_count = []\n",
    "        date.rename({col: '_'.join(col.split('_')[:2]) for col in date.columns}, axis=1, inplace=True)\n",
    "        not_null_msk  = date.T.notnull()\n",
    "        for item in date.index.tolist():\n",
    "            item_df = not_null_msk[item]\n",
    "            if edges:\n",
    "                vertices = list(dict.fromkeys(item_df[item_df].index.tolist()))\n",
    "                items_to_count.extend([(vertices[i-1], vertices[i]) for i in range(1, len(vertices))])\n",
    "            else:\n",
    "                path = (', ').join(date.loc[item][date.loc[item].notna()].index.drop_duplicates().tolist())\n",
    "                items_to_count.append(path) \n",
    "        counter.update(Counter(items_to_count))\n",
    "    return counter"
   ]
  },
  {
   "cell_type": "code",
   "execution_count": 102,
   "id": "9d1af9a5-bd54-4636-88cc-9ce9f3977619",
   "metadata": {},
   "outputs": [],
   "source": [
    "def plot_feature_count(filepath):\n",
    "    stations = defaultdict(set)\n",
    "    for col in df.columns:\n",
    "        try:\n",
    "            split = col.split('_')\n",
    "            station = '_'.join(split[:2])\n",
    "            feature = split[2]\n",
    "            stations[station].add(feature)\n",
    "        except:\n",
    "            pass\n",
    "\n",
    "    feature_counts = {s: len(f) for s, f in stations.items()}\n",
    "    index = [ k for k in feature_counts]\n",
    "    counts = [v for v in feature_counts.values()]\n",
    "    to_plot = pd.DataFrame([index, counts]).T.rename({0: 'station', 1:'feature_count'}, axis=1).set_index('station')\n",
    "    ax = to_plot.plot.bar(rot=70, alpha=0.75, figsize=(16, 9), fontsize='large', ylabel='feature_count', legend=False);"
   ]
  },
  {
   "cell_type": "markdown",
   "id": "3495a0c6-68a6-4644-9df8-dbbe7272d235",
   "metadata": {},
   "source": [
    "### Ensuring timestamps are increasing\n",
    "Each item goes through several stations during its production.\n",
    "\n",
    "It's important to ensure that these stations are the order in which the item paths and that there are no cases when an item goes back and forth.\n",
    "\n",
    "Not all items are checked, only a sample. "
   ]
  },
  {
   "cell_type": "code",
   "execution_count": 13,
   "id": "cff858d5-214e-4471-8d0a-3c25deb69009",
   "metadata": {},
   "outputs": [],
   "source": [
    "dates = pd.read_csv(train_date_path,\n",
    "                        chunksize=10000,\n",
    "                        index_col=ID_COL)\n",
    "for date in dates:\n",
    "    samples = date.sample(10)\n",
    "    for item in samples.index.tolist():\n",
    "        assert samples.loc[item].dropna().is_monotonic"
   ]
  },
  {
   "cell_type": "code",
   "execution_count": 19,
   "id": "767cf9ac-63fd-4282-a6a7-bcee93d2e482",
   "metadata": {},
   "outputs": [],
   "source": [
    "edge_counter = update_counter_from_file(train_date_path)"
   ]
  },
  {
   "cell_type": "code",
   "execution_count": 20,
   "id": "48e4dd5f-f578-4448-896c-c804c6646eda",
   "metadata": {},
   "outputs": [],
   "source": [
    "edge_counter = update_counter_from_file(test_date_path,\n",
    "                                        counter=edge_counter)"
   ]
  },
  {
   "cell_type": "markdown",
   "id": "89b33c87-b696-4b7b-94ff-e62ffd9513eb",
   "metadata": {},
   "source": [
    "#### These are the most common edges\n",
    "* Most common station transitions.\n",
    "* Left is what station the item is coming from and right where the item is going. \n",
    "* The number indicates how many items passed there.\n",
    "\n",
    "* e.g. **2236402** items passed from **production line 3 station 29** to **production line 3 station 30.** "
   ]
  },
  {
   "cell_type": "code",
   "execution_count": 35,
   "id": "ce040c41-dba6-43a0-ba54-3954910d8847",
   "metadata": {},
   "outputs": [
    {
     "data": {
      "text/plain": [
       "[(('L3_S29', 'L3_S30'), 2236402),\n",
       " (('L3_S33', 'L3_S34'), 2226070),\n",
       " (('L3_S30', 'L3_S33'), 2114898),\n",
       " (('L0_S0', 'L0_S1'), 1346767),\n",
       " (('L3_S36', 'L3_S37'), 1137137),\n",
       " (('L3_S34', 'L3_S36'), 1131493),\n",
       " (('L3_S35', 'L3_S37'), 1103146),\n",
       " (('L3_S34', 'L3_S35'), 1098509),\n",
       " (('L0_S1', 'L0_S2'), 678332),\n",
       " (('L0_S6', 'L0_S8'), 677770)]"
      ]
     },
     "execution_count": 35,
     "metadata": {},
     "output_type": "execute_result"
    }
   ],
   "source": [
    "edge_counter.most_common(10)"
   ]
  },
  {
   "cell_type": "markdown",
   "id": "799cd745-d742-4fb7-9bce-98050648117f",
   "metadata": {},
   "source": [
    "## Graph\n",
    "### Entire shopfloor"
   ]
  },
  {
   "cell_type": "code",
   "execution_count": 30,
   "id": "3cefea86-825a-4f71-9dca-b98774c8960d",
   "metadata": {},
   "outputs": [],
   "source": [
    "G = pgv.AGraph(strict=False, directed=True)"
   ]
  },
  {
   "cell_type": "code",
   "execution_count": 31,
   "id": "be500592-4b33-4d98-9272-49429f026d80",
   "metadata": {},
   "outputs": [],
   "source": [
    "ebunch = [(k[0], k[1], v) for k,v in edge_counter.items()]\n",
    "ebunch_max, ebunch_min = ebunch[0][2], ebunch[-1][2]\n",
    "reg_ebunch = [(x[0], x[1]) for x in ebunch]\n",
    "out_nodes = set([k[0] for k,v in edge_counter.items()])\n",
    "in_nodes = set([k[1] for k,v in edge_counter.items()])\n",
    "sink_nodes = in_nodes - out_nodes\n",
    "origin_nodes = out_nodes - in_nodes\n",
    "norm_ebunch = []\n",
    "for i, e in enumerate(ebunch):\n",
    "    norm_ebunch.append((e[0], e[1], (e[2]-ebunch_min)/(ebunch_max-ebunch_min)*5))"
   ]
  },
  {
   "cell_type": "markdown",
   "id": "cb1aeb07-3314-496f-befc-62f833a9d048",
   "metadata": {},
   "source": [
    "#### Sink nodes and origin nodes\n",
    "* sink node = station that doesn't have any \"outgoing items\".\n",
    "* origin node = station that doesn't have any \"incoming items\"."
   ]
  },
  {
   "cell_type": "code",
   "execution_count": 32,
   "id": "e8700c46-b99a-46d4-93e2-85ba4b83849a",
   "metadata": {},
   "outputs": [
    {
     "data": {
      "text/plain": [
       "({'L3_S38', 'L3_S51'}, {'L0_S0'})"
      ]
     },
     "execution_count": 32,
     "metadata": {},
     "output_type": "execute_result"
    }
   ],
   "source": [
    "sink_nodes, origin_nodes"
   ]
  },
  {
   "cell_type": "code",
   "execution_count": 33,
   "id": "03d8d497-f8f0-4f23-90ba-389f88fb89e3",
   "metadata": {},
   "outputs": [],
   "source": [
    "lines = ['L0', 'L1', 'L2', 'L3']\n",
    "colors = ['black', 'red', 'green', 'blue']\n",
    "node_line = {}\n",
    "edge_line = {}\n",
    "for color, line in zip(colors, lines):\n",
    "    node_line[line] = [k[0] for k,v in edge_counter.items() if line in k[0]]\n",
    "    edge_line[line] = [k for k,v in edge_counter.items() if line in k[0]]\n",
    "    G.add_nodes_from(node_line[line], color=color)\n",
    "    G.add_edges_from(edge_line[line], color=color)"
   ]
  },
  {
   "cell_type": "code",
   "execution_count": 34,
   "id": "e1a217f9-6d91-4837-829f-d7eb260747ee",
   "metadata": {},
   "outputs": [],
   "source": [
    "G.layout(prog=\"dot\")\n",
    "G.draw(\"shopfloor_full.png\")"
   ]
  },
  {
   "cell_type": "markdown",
   "id": "6f1b500a-794b-4a8e-baa9-fdae47eabd77",
   "metadata": {},
   "source": [
    "## Paths"
   ]
  },
  {
   "cell_type": "code",
   "execution_count": 37,
   "id": "81c50240-881e-4d22-88f0-0aff0602acfb",
   "metadata": {},
   "outputs": [],
   "source": [
    "path_counter = update_counter_from_file(train_date_path,\n",
    "                                       edges=False)"
   ]
  },
  {
   "cell_type": "code",
   "execution_count": 38,
   "id": "502430a9-25c8-45f8-a93b-3f29e60797b1",
   "metadata": {},
   "outputs": [],
   "source": [
    "path_counter = update_counter_from_file(test_date_path,\n",
    "                                       counter=path_counter,\n",
    "                                       edges=False)"
   ]
  },
  {
   "cell_type": "markdown",
   "id": "6459731c-1ade-4852-9a0c-e463beb93955",
   "metadata": {},
   "source": [
    "### Most common paths\n",
    "These are the 20 most common paths:"
   ]
  },
  {
   "cell_type": "code",
   "execution_count": 42,
   "id": "49e1fb30-d0a8-4f0d-aff7-437ea38526ce",
   "metadata": {},
   "outputs": [
    {
     "data": {
      "text/plain": [
       "[('L1_S24, L2_S26, L3_S29, L3_S30, L3_S33, L3_S34, L3_S36, L3_S37', 116692),\n",
       " ('L1_S24, L2_S26, L3_S29, L3_S30, L3_S33, L3_S34, L3_S35, L3_S37', 112976),\n",
       " ('L1_S25, L2_S26, L3_S29, L3_S30, L3_S33, L3_S34, L3_S36, L3_S37', 46765),\n",
       " ('L1_S25, L2_S26, L3_S29, L3_S30, L3_S33, L3_S34, L3_S35, L3_S37', 45282),\n",
       " ('L1_S24, L2_S27, L3_S29, L3_S30, L3_S33, L3_S34, L3_S36, L3_S37', 42267),\n",
       " ('L1_S24, L2_S27, L3_S29, L3_S30, L3_S33, L3_S34, L3_S35, L3_S37', 40419),\n",
       " ('L1_S25, L2_S27, L3_S29, L3_S30, L3_S33, L3_S34, L3_S36, L3_S37', 21850),\n",
       " ('L0_S0, L0_S1, L0_S2, L0_S5, L0_S7, L0_S8, L0_S11, L3_S29, L3_S30, L3_S33, L3_S34, L3_S36, L3_S37',\n",
       "  21127),\n",
       " ('L0_S0, L0_S1, L0_S2, L0_S5, L0_S6, L0_S8, L0_S11, L3_S29, L3_S30, L3_S33, L3_S34, L3_S36, L3_S37',\n",
       "  21088),\n",
       " ('L0_S0, L0_S1, L0_S2, L0_S5, L0_S6, L0_S8, L0_S10, L3_S29, L3_S30, L3_S33, L3_S34, L3_S36, L3_S37',\n",
       "  21079),\n",
       " ('L1_S25, L2_S27, L3_S29, L3_S30, L3_S33, L3_S34, L3_S35, L3_S37', 21078),\n",
       " ('L0_S0, L0_S1, L0_S2, L0_S4, L0_S6, L0_S8, L0_S9, L3_S29, L3_S30, L3_S33, L3_S34, L3_S36, L3_S37',\n",
       "  21056),\n",
       " ('L0_S0, L0_S1, L0_S2, L0_S5, L0_S6, L0_S8, L0_S9, L3_S29, L3_S30, L3_S33, L3_S34, L3_S36, L3_S37',\n",
       "  21025),\n",
       " ('L0_S0, L0_S1, L0_S2, L0_S5, L0_S7, L0_S8, L0_S9, L3_S29, L3_S30, L3_S33, L3_S34, L3_S36, L3_S37',\n",
       "  20995),\n",
       " ('L0_S0, L0_S1, L0_S3, L0_S5, L0_S6, L0_S8, L0_S10, L3_S29, L3_S30, L3_S33, L3_S34, L3_S36, L3_S37',\n",
       "  20977),\n",
       " ('L0_S0, L0_S1, L0_S2, L0_S5, L0_S7, L0_S8, L0_S10, L3_S29, L3_S30, L3_S33, L3_S34, L3_S36, L3_S37',\n",
       "  20881),\n",
       " ('L0_S0, L0_S1, L0_S3, L0_S5, L0_S6, L0_S8, L0_S9, L3_S29, L3_S30, L3_S33, L3_S34, L3_S36, L3_S37',\n",
       "  20844),\n",
       " ('L0_S0, L0_S1, L0_S2, L0_S4, L0_S7, L0_S8, L0_S10, L3_S29, L3_S30, L3_S33, L3_S34, L3_S36, L3_S37',\n",
       "  20842),\n",
       " ('L0_S0, L0_S1, L0_S3, L0_S5, L0_S6, L0_S8, L0_S11, L3_S29, L3_S30, L3_S33, L3_S34, L3_S36, L3_S37',\n",
       "  20834),\n",
       " ('L0_S0, L0_S1, L0_S3, L0_S4, L0_S6, L0_S8, L0_S9, L3_S29, L3_S30, L3_S33, L3_S34, L3_S36, L3_S37',\n",
       "  20828)]"
      ]
     },
     "execution_count": 42,
     "metadata": {},
     "output_type": "execute_result"
    }
   ],
   "source": [
    "path_counter.most_common(20)"
   ]
  },
  {
   "cell_type": "markdown",
   "id": "049cc408-8203-400b-99f8-84cbd4472102",
   "metadata": {},
   "source": [
    "### Visualizing the 7 most common paths\n",
    "These paths contain similar stations and are the most common."
   ]
  },
  {
   "cell_type": "code",
   "execution_count": 43,
   "id": "47888cd7-f78c-42d8-9fe1-5f4ceba10182",
   "metadata": {},
   "outputs": [],
   "source": [
    "line_color = {line: color for line,color in zip(lines, colors)}"
   ]
  },
  {
   "cell_type": "code",
   "execution_count": 45,
   "id": "b8718ac8-792a-470c-b710-e30880973ef3",
   "metadata": {},
   "outputs": [],
   "source": [
    "G = pgv.AGraph(strict=False, directed=True)"
   ]
  },
  {
   "cell_type": "code",
   "execution_count": 46,
   "id": "66909bab-2d94-48f7-ac0d-01677c005541",
   "metadata": {},
   "outputs": [],
   "source": [
    "nodes, edges = set(), set()\n",
    "edge_count = defaultdict(int)\n",
    "for path in path_counter.most_common(7):\n",
    "    try:\n",
    "        path = path[0].replace(',', '').split()\n",
    "        for node in path:\n",
    "            nodes.add(node)\n",
    "            line = node.split('_')[0]\n",
    "            G.add_node(node, color=line_color[line])\n",
    "        for i in range(1, len(path)):\n",
    "            len_edges = len(edges)\n",
    "            edges.add((path[i-1], path[i]))\n",
    "            edge_count[(path[i-1], path[i])] += 1\n",
    "            if len_edges<len(edges):\n",
    "                line = path[i-1].split('_')[0]\n",
    "                G.add_edge((path[i-1], path[i]), color=line_color[line])\n",
    "    except Exception as e:\n",
    "        print(e)"
   ]
  },
  {
   "cell_type": "code",
   "execution_count": 47,
   "id": "8bd9a904-a904-4f0e-bc2f-cfa9e5ef422c",
   "metadata": {},
   "outputs": [],
   "source": [
    "G.layout(prog=\"dot\")\n",
    "G.draw(\"most_common_paths.png\")"
   ]
  },
  {
   "cell_type": "markdown",
   "id": "72036fe1-7e33-42cf-a51a-a061534c0f68",
   "metadata": {},
   "source": [
    "### Feature count in ALL stations"
   ]
  },
  {
   "cell_type": "code",
   "execution_count": 107,
   "id": "01829147-f7f4-44bb-94e0-4eea3e664295",
   "metadata": {},
   "outputs": [
    {
     "data": {
      "image/png": "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\n",
      "text/plain": [
       "<Figure size 1152x648 with 1 Axes>"
      ]
     },
     "metadata": {
      "needs_background": "light"
     },
     "output_type": "display_data"
    }
   ],
   "source": [
    "plot_feature_count(train_date_path)"
   ]
  },
  {
   "cell_type": "markdown",
   "id": "1d987cd3-7f39-4de7-8a5d-6e8c188877ab",
   "metadata": {},
   "source": [
    "# Numeric data"
   ]
  },
  {
   "cell_type": "code",
   "execution_count": 52,
   "id": "6802c017-e725-4682-ae93-ce612a534c72",
   "metadata": {},
   "outputs": [],
   "source": [
    "stations = set()\n",
    "for path in path_counter.most_common(7):\n",
    "    path = path[0].replace(',', '').split()\n",
    "    for station in path:\n",
    "        stations.add(station)"
   ]
  },
  {
   "cell_type": "code",
   "execution_count": 53,
   "id": "80652afa-d05f-454b-bf02-2109a81a3a5f",
   "metadata": {},
   "outputs": [
    {
     "data": {
      "text/plain": [
       "{'L1_S24',\n",
       " 'L1_S25',\n",
       " 'L2_S26',\n",
       " 'L2_S27',\n",
       " 'L3_S29',\n",
       " 'L3_S30',\n",
       " 'L3_S33',\n",
       " 'L3_S34',\n",
       " 'L3_S35',\n",
       " 'L3_S36',\n",
       " 'L3_S37'}"
      ]
     },
     "execution_count": 53,
     "metadata": {},
     "output_type": "execute_result"
    }
   ],
   "source": [
    "stations"
   ]
  },
  {
   "cell_type": "code",
   "execution_count": 61,
   "id": "0d88e184-cd0e-419e-889d-06e154ff0c62",
   "metadata": {},
   "outputs": [],
   "source": [
    "df = pd.read_csv(train_numeric_path,\n",
    "                 nrows=10,\n",
    "                 index_col=ID_COL)\n",
    "rel_columns = [col for col in df.columns if '_'.join(col.split('_')[:2]) in stations]"
   ]
  },
  {
   "cell_type": "markdown",
   "id": "965758bd-84b7-4bd7-9dc0-62f7b97a4288",
   "metadata": {},
   "source": [
    "#### The most popular stations contain 70% of features!"
   ]
  },
  {
   "cell_type": "code",
   "execution_count": 63,
   "id": "48e839d2-2932-42e6-84a8-02b3ec54bd42",
   "metadata": {},
   "outputs": [
    {
     "data": {
      "text/plain": [
       "0.718266253869969"
      ]
     },
     "execution_count": 63,
     "metadata": {},
     "output_type": "execute_result"
    }
   ],
   "source": [
    "len(rel_columns)/len(df.columns)"
   ]
  },
  {
   "cell_type": "markdown",
   "id": "4a5687f3-4b29-48d0-979b-6bc73b3d688a",
   "metadata": {},
   "source": [
    "### Feature count per station \n"
    "Station 24 and 25 on line 1 have by far most features. This could indicate more complex manufacturing operations, where more machine features \n", 
    "and measurements are needed. \n",
    "Station 29 to 30 in line 3 only contain a moderate number of features but are visited frequently, meaning they could be responsible for product packaging. \n",
    "Station 31 to 51 have significantly less features. We assume that less features imply less operations and therefore some kind of transportation process of \n",
    "final products."
   ]
  },
  {
   "cell_type": "code",
   "execution_count": 106,
   "id": "1849375f-6b92-42d7-aca3-fd9a52aa40af",
   "metadata": {},
   "outputs": [
    {
     "data": {
      "image/png": "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\n",
      "text/plain": [
       "<Figure size 1152x648 with 1 Axes>"
      ]
     },
     "metadata": {
      "needs_background": "light"
     },
     "output_type": "display_data"
    }
   ],
   "source": [
    "plot_feature_count(train_numeric_path)"
   ]
  },
  {
   "cell_type": "markdown",
   "id": "cc488244-f9a8-45ed-854b-4532b736cf20",
   "metadata": {},
   "source": [
    "# Categorical Data"
   ]
  },
  {
   "cell_type": "markdown",
   "id": "b7c8ba55-b62a-41e9-9d88-0a06bfe2bb50",
   "metadata": {},
   "source": [
    "### Feature count per station:"
   ]
  },
  {
   "cell_type": "code",
   "execution_count": 103,
   "id": "46dd0ebe-9e69-4c15-a823-6e7a285ce703",
   "metadata": {},
   "outputs": [
    {
     "data": {
      "image/png": "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\n",
      "text/plain": [
       "<Figure size 1152x648 with 1 Axes>"
      ]
     },
     "metadata": {
      "needs_background": "light"
     },
     "output_type": "display_data"
    }
   ],
   "source": [
    "plot_feature_count(train_cat_path)"
   ]
  },
  {
   "cell_type": "markdown",
   "id": "4f329758-91d7-4c99-884b-849ff57266dc",
   "metadata": {},
   "source": [
    "# Production duration\n",
    "|value|  real duration|\n",
    "|------|--------------|\n",
    "|0.01 | 6 [min] |\n",
    "|2.39| 1 [day]|\n",
    "|16.75| 1 [week]|\n",
    "\n",
    "https://www.kaggle.com/gaborfodor/notebookd19d11e4f2"
   ]
  },
  {
   "cell_type": "code",
   "execution_count": 64,
   "id": "1de25e42-afe3-485d-af4b-f87950b38db3",
   "metadata": {},
   "outputs": [],
   "source": [
    "spans = []\n",
    "for date_path in [train_date_path, test_date_path]:\n",
    "    dates = pd.read_csv(date_path, chunksize=10000, index_col=ID_COL)\n",
    "    for date in dates:\n",
    "        date.dropna(how='all', axis=1, inplace=True)\n",
    "        date['max_'] = date.max(axis=1)\n",
    "        date['min_'] = date.min(axis=1)\n",
    "        date['span'] = date['max_'] - date['min_']\n",
    "        spans.extend(date.span.tolist())"
   ]
  },
  {
   "cell_type": "code",
   "execution_count": 88,
   "id": "8a9fe471-0854-494e-8829-0bbc5847650e",
   "metadata": {},
   "outputs": [],
   "source": [
    "span_df = pd.DataFrame(spans, columns=['span'])\n",
    "span_df['span_in_6minutes'] = span_df.span/0.01\n",
    "span_df['span_in_hours'] = span_df.span/0.1"
   ]
  },
  {
   "cell_type": "code",
   "execution_count": 89,
   "id": "40740f85-25ad-45de-99e4-813d193d05df",
   "metadata": {},
   "outputs": [
    {
     "data": {
      "text/html": [
       "<div>\n",
       "<style scoped>\n",
       "    .dataframe tbody tr th:only-of-type {\n",
       "        vertical-align: middle;\n",
       "    }\n",
       "\n",
       "    .dataframe tbody tr th {\n",
       "        vertical-align: top;\n",
       "    }\n",
       "\n",
       "    .dataframe thead th {\n",
       "        text-align: right;\n",
       "    }\n",
       "</style>\n",
       "<table border=\"1\" class=\"dataframe\">\n",
       "  <thead>\n",
       "    <tr style=\"text-align: right;\">\n",
       "      <th></th>\n",
       "      <th>span</th>\n",
       "      <th>span_in_6minutes</th>\n",
       "      <th>span_in_hours</th>\n",
       "    </tr>\n",
       "  </thead>\n",
       "  <tbody>\n",
       "    <tr>\n",
       "      <th>count</th>\n",
       "      <td>2366330.0000</td>\n",
       "      <td>2366330.0000</td>\n",
       "      <td>2366330.0000</td>\n",
       "    </tr>\n",
       "    <tr>\n",
       "      <th>mean</th>\n",
       "      <td>10.7082</td>\n",
       "      <td>1070.8217</td>\n",
       "      <td>107.0822</td>\n",
       "    </tr>\n",
       "    <tr>\n",
       "      <th>std</th>\n",
       "      <td>17.0312</td>\n",
       "      <td>1703.1242</td>\n",
       "      <td>170.3124</td>\n",
       "    </tr>\n",
       "    <tr>\n",
       "      <th>min</th>\n",
       "      <td>0.0000</td>\n",
       "      <td>0.0000</td>\n",
       "      <td>0.0000</td>\n",
       "    </tr>\n",
       "    <tr>\n",
       "      <th>5%</th>\n",
       "      <td>0.6100</td>\n",
       "      <td>61.0000</td>\n",
       "      <td>6.1000</td>\n",
       "    </tr>\n",
       "    <tr>\n",
       "      <th>25%</th>\n",
       "      <td>1.7100</td>\n",
       "      <td>171.0000</td>\n",
       "      <td>17.1000</td>\n",
       "    </tr>\n",
       "    <tr>\n",
       "      <th>50%</th>\n",
       "      <td>3.6900</td>\n",
       "      <td>369.0000</td>\n",
       "      <td>36.9000</td>\n",
       "    </tr>\n",
       "    <tr>\n",
       "      <th>75%</th>\n",
       "      <td>11.7600</td>\n",
       "      <td>1176.0000</td>\n",
       "      <td>117.6000</td>\n",
       "    </tr>\n",
       "    <tr>\n",
       "      <th>95%</th>\n",
       "      <td>42.8400</td>\n",
       "      <td>4284.0000</td>\n",
       "      <td>428.4000</td>\n",
       "    </tr>\n",
       "    <tr>\n",
       "      <th>99%</th>\n",
       "      <td>62.8100</td>\n",
       "      <td>6281.0000</td>\n",
       "      <td>628.1000</td>\n",
       "    </tr>\n",
       "    <tr>\n",
       "      <th>max</th>\n",
       "      <td>699.2000</td>\n",
       "      <td>69920.0000</td>\n",
       "      <td>6992.0000</td>\n",
       "    </tr>\n",
       "  </tbody>\n",
       "</table>\n",
       "</div>"
      ],
      "text/plain": [
       "              span  span_in_6minutes  span_in_hours\n",
       "count 2366330.0000      2366330.0000   2366330.0000\n",
       "mean       10.7082         1070.8217       107.0822\n",
       "std        17.0312         1703.1242       170.3124\n",
       "min         0.0000            0.0000         0.0000\n",
       "5%          0.6100           61.0000         6.1000\n",
       "25%         1.7100          171.0000        17.1000\n",
       "50%         3.6900          369.0000        36.9000\n",
       "75%        11.7600         1176.0000       117.6000\n",
       "95%        42.8400         4284.0000       428.4000\n",
       "99%        62.8100         6281.0000       628.1000\n",
       "max       699.2000        69920.0000      6992.0000"
      ]
     },
     "execution_count": 89,
     "metadata": {},
     "output_type": "execute_result"
    }
   ],
   "source": [
    "span_df.describe(percentiles=[0.05, 0.25, 0.5, 0.75, 0.95, 0.99])"
   ]
  }
 ],
 "metadata": {
  "kernelspec": {
   "display_name": "Python 3",
   "language": "python",
   "name": "python3"
  },
  "language_info": {
   "codemirror_mode": {
    "name": "ipython",
    "version": 3
   },
   "file_extension": ".py",
   "mimetype": "text/x-python",
   "name": "python",
   "nbconvert_exporter": "python",
   "pygments_lexer": "ipython3",
   "version": "3.8.12"
  }
 },
 "nbformat": 4,
 "nbformat_minor": 5
}
